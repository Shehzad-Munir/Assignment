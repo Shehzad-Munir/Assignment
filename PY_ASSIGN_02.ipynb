{
 "cells": [
  {
   "cell_type": "markdown",
   "metadata": {},
   "source": [
    "## 1) Write a program which takes 5 inputs from user for different subject’s marks, total it and generate mark sheet using grades ?"
   ]
  },
  {
   "cell_type": "code",
   "execution_count": 4,
   "metadata": {},
   "outputs": [
    {
     "name": "stdout",
     "output_type": "stream",
     "text": [
      "Enter Math marks out of 100: 55\n",
      "Enter English marks out of 100: 45\n",
      "Enter urdu marks out of 100: 65\n",
      "Enter Physics marks out of 100: 70\n",
      "Enter Chemistry marks out of 100: 75\n",
      "\n",
      "\n",
      "SUBJECT \t Total Marks \t obtained marks\n",
      "Maths\t\t 100 \t\t 55\n",
      "\n",
      "English\t\t 100 \t\t 45\n",
      "\n",
      "Urdu\t\t 100 \t\t 65\n",
      "\n",
      "Physics\t\t 100 \t\t 70\n",
      "\n",
      "Chemistry\t 100 \t\t 75\n",
      "\n",
      "you have obtained 310 marks from 500\n",
      "You have obtained 62.0% in the Exam\n",
      "FINAL GRADE :  C\n"
     ]
    }
   ],
   "source": [
    "#total marks \n",
    "total_marks = 500\n",
    "\n",
    "#obtained marks\n",
    "maths = int(input('Enter Math marks out of 100: '))\n",
    "english = int(input('Enter English marks out of 100: '))\n",
    "urdu = int(input('Enter urdu marks out of 100: '))\n",
    "physics = int(input('Enter Physics marks out of 100: '))\n",
    "chemistry = int(input('Enter Chemistry marks out of 100: ')) \n",
    "\n",
    "#Total obtained marks\n",
    "obtained_marks = maths + english + urdu + physics + chemistry\n",
    "\n",
    "#percentage\n",
    "percentage = (obtained_marks / total_marks) * 100\n",
    "\n",
    "#GRADING\n",
    "grade = \"\"\n",
    "if percentage >= 90:\n",
    "    grade = \"A+\"\n",
    "elif percentage >= 80 and percentage < 90:\n",
    "    grade = \"A\"\n",
    "elif percentage >= 70 and percentage < 80:\n",
    "    grade = \"B\"\n",
    "elif percentage >= 60 and percentage < 70:\n",
    "    grade = \"C\"\n",
    "else:\n",
    "    grade = \"FAIL\"\n",
    "    \n",
    "#PRINTING THE  MARKSHEET\n",
    "print('\\n\\nSUBJECT \\t Total Marks \\t obtained marks\\n\\n')\n",
    "print(f'Maths\\t\\t 100 \\t\\t {maths}\\n')\n",
    "print(f'English\\t\\t 100 \\t\\t {english}\\n')\n",
    "print(f'Urdu\\t\\t 100 \\t\\t {urdu}\\n')\n",
    "print(f'Physics\\t\\t 100 \\t\\t {physics}\\n')\n",
    "print(f'Chemistry\\t 100 \\t\\t {chemistry}\\n')\n",
    "print(f\"Obtained total marks {obtained_marks} from {total_marks}\")\n",
    "print(f\"Obtained Percentage :  {percentage}% \")\n",
    "print(f\"FINAL GRADE :  {grade}\")\n",
    "  "
   ]
  },
  {
   "cell_type": "markdown",
   "metadata": {},
   "source": [
    "## 2. Write a program which take input from user and identify that the given number is even or odd?"
   ]
  },
  {
   "cell_type": "code",
   "execution_count": 5,
   "metadata": {},
   "outputs": [
    {
     "name": "stdout",
     "output_type": "stream",
     "text": [
      "Enter any Number: 3\n",
      "The number you entered is odd\n"
     ]
    }
   ],
   "source": [
    "user_input = int(input('Enter any Number: '))\n",
    "\n",
    "if(user_input%2 == 0):\n",
    "    print(f'The number you entered is even.')\n",
    "else:\n",
    "    print(f'The number you entered is odd')"
   ]
  },
  {
   "cell_type": "markdown",
   "metadata": {},
   "source": [
    "## 3. Write a program which print the length of the list?"
   ]
  },
  {
   "cell_type": "code",
   "execution_count": 6,
   "metadata": {},
   "outputs": [
    {
     "name": "stdout",
     "output_type": "stream",
     "text": [
      "The length of  above list is : 7\n"
     ]
    }
   ],
   "source": [
    "#getting a  random list\n",
    "getting_list = [10,12,30, 45, 'Shehzad', 0.9, False]\n",
    "\n",
    "#finding the  length of above list\n",
    "print(f'The length of  above list is : {len(getting_list)}')\n"
   ]
  },
  {
   "cell_type": "markdown",
   "metadata": {},
   "source": [
    "## 4. Write a Python program to sum all the numeric items in a list?"
   ]
  },
  {
   "cell_type": "code",
   "execution_count": 8,
   "metadata": {},
   "outputs": [
    {
     "name": "stdout",
     "output_type": "stream",
     "text": [
      "sum of list is : 45\n"
     ]
    }
   ],
   "source": [
    "#getting numeric list\n",
    "numeric_list  = [2,4,5,6,7,9,12]\n",
    "\n",
    "#FOR SUMMING up THE LIST\n",
    "print(f'sum of list is : {sum(numeric_list)}')\n"
   ]
  },
  {
   "cell_type": "markdown",
   "metadata": {},
   "source": [
    "## 5. Write a Python program to get the largest number from a numeric list."
   ]
  },
  {
   "cell_type": "code",
   "execution_count": 11,
   "metadata": {},
   "outputs": [
    {
     "name": "stdout",
     "output_type": "stream",
     "text": [
      "Th larges number from LIST is : 78\n"
     ]
    }
   ],
   "source": [
    "#GETIING LIST\n",
    "LIST = [23,34,78,24,20,17]\n",
    "\n",
    "#GETIING LARGES NUMBER FROM LIST\n",
    "print(f'Th larges number from LIST is : {max(LIST)}')\n"
   ]
  },
  {
   "cell_type": "markdown",
   "metadata": {},
   "source": [
    "## 6. Take a list, say for example this one: a = [1, 1, 2, 3, 5, 8, 13, 21, 34, 55, 89] and write a program that prints out all the elements of the list that are less than 5."
   ]
  },
  {
   "cell_type": "code",
   "execution_count": 12,
   "metadata": {},
   "outputs": [
    {
     "name": "stdout",
     "output_type": "stream",
     "text": [
      "[1, 1, 2, 3]\n"
     ]
    }
   ],
   "source": [
    "a = [1, 1, 2, 3, 5, 8, 13, 21, 34, 55, 89]\n",
    "\n",
    "#printing  out numerics which are less then 5\n",
    "print(a[0:4])\n"
   ]
  },
  {
   "cell_type": "code",
   "execution_count": null,
   "metadata": {},
   "outputs": [],
   "source": []
  }
 ],
 "metadata": {
  "kernelspec": {
   "display_name": "Python 3",
   "language": "python",
   "name": "python3"
  },
  "language_info": {
   "codemirror_mode": {
    "name": "ipython",
    "version": 3
   },
   "file_extension": ".py",
   "mimetype": "text/x-python",
   "name": "python",
   "nbconvert_exporter": "python",
   "pygments_lexer": "ipython3",
   "version": "3.7.1"
  }
 },
 "nbformat": 4,
 "nbformat_minor": 2
}
